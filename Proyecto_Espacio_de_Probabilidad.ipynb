{
 "cells": [
  {
   "cell_type": "markdown",
   "id": "59b6eaeb",
   "metadata": {},
   "source": [
    "# $$\\color{navy}{ESPACIO \\,\\, DE \\,\\, PROBABILIDAD}$$"
   ]
  },
  {
   "cell_type": "markdown",
   "id": "4dbdc0a9",
   "metadata": {},
   "source": [
    "Es importante definir los siguientes conceptos:\n",
    "\n",
    "**Espacio muestral ($\\Omega$):** Conjunto de todos los posibles resultados del experimento.\n",
    "\n",
    "**Probabilidad:** Es un número real en el intervalo $[0,1]$, comunmente se denota por $\\mathbb{P}(A)$, representa la frecuencia con la que se observa la ocurrencia de dicho evento cuando se realiza el experimento aleatorio.\n",
    "\n",
    "\n"
   ]
  },
  {
   "cell_type": "markdown",
   "id": "d9118594",
   "metadata": {},
   "source": [
    "## $\\color{skyblue}{Probabilidad \\,\\, clásica}$"
   ]
  },
  {
   "cell_type": "markdown",
   "id": "9c06530b",
   "metadata": {},
   "source": [
    "La probabilidad clásica tambien es llamada **Probabilidad Laplaciana** en honor al astrónomo y matemático Pierre-Simon Laplace, e indinca que todos los evenos tienen la misma probabilidad de ocurrencia (**equiporbabilidad**)\n",
    "\n",
    "$\\text{Definición:}$ \n",
    "Sea *A* un subconjunto del espacio muestras $\\Omega$ de cardinalidad finita. La probabilidad clásica del evento A se define de la siguiente manera:\n",
    "\n",
    "$$ \\mathbb{P}(A)=\\frac{\\#A\\quad\\text{(cardinalidado elementos del suconjuto A)}}{\\#\\Omega\\quad\\text{ Espacio muestral}}$$\n",
    "\n",
    "$\\color{red}{Ejemplo}$  \n",
    "Sea el experimento de lanza una moneda 3 veces, de manera independiente (es decir, el  𝑖\n",
    " -esimo lanzamiento no me afecta al  𝑖+1\n",
    " ).\n",
    "El Espacio muestral de este esperimento es:\n",
    "\n",
    "Ω={𝐴,𝑆}×{𝐴,𝑆}×{𝐴,𝑆}×={𝐴,𝑆}3\n",
    " \n",
    "\n",
    "Y tenemos que la cardinalidad de  Ω=23\n",
    " \n",
    "Sean los eventos:\n",
    "\n",
    "𝐴\n",
    " : todos los resultados son aguila\n",
    "𝑆\n",
    " : todos los resultados son soles\n",
    "𝐸\n",
    " : Por lo menos un resultado es sol\n",
    "Calcular las probabilidades de estos eventos:\n",
    "\n",
    "Solución:\n",
    "Vamos a descomponer mi conjunto  𝐴\n",
    "  de la siguiente manera:\n",
    "𝐴=𝐴1∩𝐴2∩𝐴3\n",
    " \n",
    "donde  𝐴𝑖\n",
    " : caé en el  𝑖\n",
    " -ésimo resultado."
   ]
  },
  {
   "cell_type": "code",
   "execution_count": 4,
   "id": "f2ff5a0a",
   "metadata": {},
   "outputs": [
    {
     "name": "stdout",
     "output_type": "stream",
     "text": [
      "Espacio muestral: {('A', 'A', 'A'), ('S', 'S', 'S'), ('A', 'A', 'S'), ('S', 'A', 'A'), ('S', 'A', 'S'), ('A', 'S', 'A'), ('A', 'S', 'S'), ('S', 'S', 'A')}\n",
      "La cardinalidad es de: 8\n",
      "Primer lanzamiento salga aguila: {('A', 'A', 'S'), ('A', 'A', 'A'), ('A', 'S', 'A'), ('A', 'S', 'S')}\n",
      "Segundo lanzamiento salga aguila {('A', 'A', 'S'), ('A', 'A', 'A'), ('S', 'A', 'S'), ('S', 'A', 'A')}\n",
      "Tercer lanzamiento salga aguila: {('A', 'A', 'A'), ('A', 'S', 'A'), ('S', 'S', 'A'), ('S', 'A', 'A')}\n",
      "Evento A: {('A', 'A', 'A')}\n",
      "La probabilidad de que todo se aguila 0.125\n",
      "Primer lanzamiento salga sol: {('S', 'A', 'S'), ('S', 'A', 'A'), ('S', 'S', 'S'), ('S', 'S', 'A')}\n",
      "Segundo lanzamiento salga sol {('A', 'S', 'A'), ('A', 'S', 'S'), ('S', 'S', 'S'), ('S', 'S', 'A')}\n",
      "Tercer lanzamiento salga sol: {('A', 'A', 'S'), ('A', 'S', 'S'), ('S', 'S', 'S'), ('S', 'A', 'S')}\n",
      "Evento S: {('S', 'S', 'S')}\n",
      "La probabilidad de que todo se aguila 0.125\n",
      "Primer lanzamiento salga sol: {('S', 'A', 'S'), ('S', 'A', 'A'), ('S', 'S', 'S'), ('S', 'S', 'A')}\n",
      "Segundo lanzamiento salga sol {('A', 'S', 'A'), ('A', 'S', 'S'), ('S', 'S', 'S'), ('S', 'S', 'A')}\n",
      "Tercer lanzamiento salga sol: {('A', 'A', 'S'), ('A', 'S', 'S'), ('S', 'S', 'S'), ('S', 'A', 'S')}\n",
      "Evento S: {('A', 'A', 'S'), ('S', 'A', 'A'), ('S', 'S', 'A'), ('S', 'A', 'S'), ('A', 'S', 'A'), ('A', 'S', 'S'), ('S', 'S', 'S')}\n",
      "La probabilidad de que por lo menos uno sea sol 0.875\n"
     ]
    }
   ],
   "source": [
    "#De esta manera importamos el módulo\n",
    "import itertools \n",
    "from itertools import product\n",
    "#--------------------------------\n",
    "#Vamos a crear el espacio muestal\n",
    "#--------------------------------\n",
    "Omega= set (product({'A', 'S'}, repeat=3))\n",
    "Omega\n",
    "\n",
    "#--------------------------------\n",
    "#Cardinalidad\n",
    "#--------------------------------\n",
    "card= len(Omega)\n",
    "\n",
    "#--------------------------------\n",
    "#Vamos a crear el evento A_1, A_2, A_3\n",
    "#--------------------------------\n",
    "A_1={om for om in Omega if om[0]=='A'} #La PRIMERA coordenada es águila\n",
    "A_2={om for om in Omega if om[1]=='A'} #La SEGUNDA coordenada es águila\n",
    "A_3={om for om in Omega if om[2]=='A'} #La TERCERA coordenada es águila\n",
    "#Vamos a crear el evento A\n",
    "A = A_1.intersection(A_2.intersection (A_3))\n",
    "#Tamaño de A\n",
    "len (A)\n",
    "#Finalmente vamos a calcular la probabilidad de A\n",
    "P_A=len(A)/len (Omega)\n",
    "\n",
    "\n",
    "#--------------------------------\n",
    "#Vamos a crear el evento S_1, S_2, S_3\n",
    "#--------------------------------\n",
    "S_1={om for om in Omega if om[0]=='S'} #La PRIMERA coordenada es águila\n",
    "S_2={om for om in Omega if om[1]=='S'} #La SEGUNDA coordenada es águila\n",
    "S_3={om for om in Omega if om[2]=='S'} #La TERCERA coordenada es águila\n",
    "\n",
    "S=S_1.intersection(S_2.intersection(S_3))\n",
    "\n",
    "#Vamos a crear el evento S.\n",
    "len(S)\n",
    "P_S=len(S)/len(Omega)\n",
    "P_S\n",
    "\n",
    "#--------------------------------\n",
    "#Vamos a crear el evento E_1, E_2, E_3\n",
    "#--------------------------------\n",
    "E_1={om for om in Omega if om[0]=='S'} #La PRIMERA coordenada es águila\n",
    "E_2={om for om in Omega if om[1]=='S'} #La SEGUNDA coordenada es águila\n",
    "E_3={om for om in Omega if om[2]=='S'} #La TERCERA coordenada es águila\n",
    "\n",
    "E=E_1.union(E_2.union(E_3))\n",
    "\n",
    "#Vamos a crear el evento S.\n",
    "len(E)\n",
    "P_E=len(E)/len(Omega)\n",
    "\n",
    "# Otra manera de verlo es\n",
    "P_e=1-P_A\n",
    "#Ya que como vimos, ese es el unico caso en el que no cae ni un solo sol.\n",
    "\n",
    "print ('Espacio muestral:', Omega)\n",
    "print ('La cardinalidad es de:', card)\n",
    "print ('Primer lanzamiento salga aguila:', A_1)\n",
    "print ('Segundo lanzamiento salga aguila', A_2)\n",
    "print ('Tercer lanzamiento salga aguila:', A_3)\n",
    "print ('Evento A:', A)\n",
    "print ('La probabilidad de que todo se aguila', P_A)\n",
    "print ('Primer lanzamiento salga sol:', S_1)\n",
    "print ('Segundo lanzamiento salga sol', S_2)\n",
    "print ('Tercer lanzamiento salga sol:', S_3)\n",
    "print ('Evento S:', S)\n",
    "print ('La probabilidad de que todo se aguila', P_S)\n",
    "print ('Primer lanzamiento salga sol:', E_1)\n",
    "print ('Segundo lanzamiento salga sol', E_2)\n",
    "print ('Tercer lanzamiento salga sol:', E_3)\n",
    "print ('Evento S:', E)\n",
    "print ('La probabilidad de que por lo menos uno sea sol', P_E)"
   ]
  },
  {
   "cell_type": "markdown",
   "id": "5517a931",
   "metadata": {},
   "source": [
    "## $\\color{skyblue}{Probabilidad \\,\\, geométrica}$"
   ]
  },
  {
   "cell_type": "markdown",
   "id": "04ba444f",
   "metadata": {},
   "source": [
    "Esta es una **extensión** de la definición de **probabilidad clásica** en donde ahora la probabilidad de un evento A ya no se alcula a través de su cardinalidad sino mediante la determinación de su **área, volumen, o alguna característica geométrica**.\n",
    "\n",
    "$$ \\mathbb{P}(A)=\\frac{\\text{Área de}\\quad A}{\\text{Área de}\\quad \\Omega}$$\n",
    "\n",
    "Es necesario suponer que el **espacio muestral** es **equiprobable** \n",
    "\n",
    "\n",
    "\n",
    "$\\color{red}{Ejemplo}$  \n",
    "\n",
    "Romero y Julieta pretenden encontrarse en algún lugar específico entre $[0,10]$\n",
    "- Si Romeo llega primero esta dispuesto a esperar 10 min,\n",
    "- Si Julieta llega primero planea esperar 10 min.\n",
    "\n",
    "Se elige un número al azar entre $0$ y $60$ y supongamos que el par de numero se elige sobre el cuadrado $60^2$, de moso que la probabilidad del evento, sea el area favorable entre el area total.\n",
    "\n",
    "Se el evento:\n",
    "- $A:$ Romeo y Julieta se encuentran a un distancias de $10$ minutos.\n"
   ]
  },
  {
   "cell_type": "code",
   "execution_count": 5,
   "id": "a7a02a8e",
   "metadata": {},
   "outputs": [
    {
     "name": "stdout",
     "output_type": "stream",
     "text": [
      "La probabilidad del evento A es: 0.3048.\n"
     ]
    },
    {
     "data": {
      "image/png": "[encoded data removed]",
      "text/plain": [
       "<Figure size 432x288 with 1 Axes>"
      ]
     },
     "metadata": {
      "needs_background": "light"
     },
     "output_type": "display_data"
    }
   ],
   "source": [
    "import matplotlib.pyplot as plt\n",
    "import numpy as np\n",
    "from random import randint\n",
    "\n",
    "#Vamos a generar 100,000 simulaciones.\n",
    "muestra= 100000\n",
    "\n",
    "#Generamos los tiempo aleatorios entre [0,60]\n",
    "# x: es el tiempo de llegada de Romeo\n",
    "# y: es el tiempo de llegada de Julieta.\n",
    "\n",
    "x,y=np.random.uniform(0,60, muestra), np.random.uniform(0,60, muestra)\n",
    "\n",
    "#Vamos a añadir nuestra condición de encuentro.\n",
    "encuentro= np.where(abs(x-y)<=10, 'r', 'b') #r si se encuentra y b si no se encuentra.\n",
    "\n",
    "#Cálculo de la probabilidad del encuentro.\n",
    "k=0\n",
    "for elemento in encuentro:\n",
    "    if elemento=='r': \n",
    "        k+=1\n",
    "        \n",
    "print('La probabilidad del evento A es: {}.'.format(k/muestra))\n",
    "\n",
    "plt.scatter(x, y, c=encuentro, s=1)\n",
    "plt.show()\n"
   ]
  },
  {
   "cell_type": "markdown",
   "id": "cc28ec43",
   "metadata": {},
   "source": [
    "## $\\color{skyblue}{Probabilidad \\,\\, frecuentista}$"
   ]
  },
  {
   "cell_type": "markdown",
   "id": "0bc76d64",
   "metadata": {},
   "source": [
    "Suponga que se realizan $n$ repeticiones de un cierto experimento aleatorio y se registra el número de veces que ocurre un determinado evento $A$.  \n",
    "Adicional tenemos la hipotesis que de el espacio muestral es un conjunto finito y podemos definir la probbilidad asociada a un evento $A$\n",
    "\n",
    "$\\text{Definición:}$ Sea $n_A$ el número de ocurrencias de un evento $A$ en $n$ realizaciones de un experimento aleatorio. La ***probabilidad frecuentista*** del evento $A$ se define.\n",
    "\n",
    "\n",
    "$$ \\mathbb{P}(A)=\\frac{n_A}{n}$$\n",
    "\n",
    "$\\color{red}{Ejemplo:}$   \n",
    "\n",
    "Lanzamiento de dos monedas injustas"
   ]
  },
  {
   "cell_type": "code",
   "execution_count": 6,
   "id": "b0c39b13",
   "metadata": {},
   "outputs": [
    {
     "name": "stdout",
     "output_type": "stream",
     "text": [
      "Probabiliad 0.623\n"
     ]
    }
   ],
   "source": [
    "import random\n",
    "\n",
    "def volado(p):\n",
    "    return 'sol' if random.random() <p else 'aguila'\n",
    "\n",
    "#Probabilidad \n",
    "volado(0.4)\n",
    "\n",
    "a=[volado(0.4) for i in range (10)]\n",
    "a\n",
    "a.count('sol')\n",
    "#Se crea un arreglo vacio\n",
    "resultados=[]\n",
    "for i in range(10):\n",
    "    resultado=volado(0.4)\n",
    "    resultados.append(resultado)\n",
    "resultados\n",
    "\n",
    "# Vamos a simular nuestra probabilidad frecuentista \n",
    "\n",
    "p=[] #lista para almacenar las probabilidades\n",
    "for i in range (1000): #Simula 1000 experimentos \n",
    "    N=10 #numero de lanzamientos\n",
    "    resultados=[]\n",
    "    \n",
    "    for i in range (N):\n",
    "        resultado =volado(0.63)\n",
    "        resultados.append(resultado)\n",
    "        \n",
    "    n_soles=resultados.count('sol') #cuenta el numero de soles \n",
    "    p_soles= n_soles/N\n",
    "    \n",
    "    p.append(p_soles)\n",
    "    \n",
    "p_soles_promedio=sum(p)/1000 #proba promedio\n",
    "print (\"Probabiliad {:.3f}\".format(p_soles_promedio))"
   ]
  }
 ],
 "metadata": {
  "kernelspec": {
   "display_name": "Python 3 (ipykernel)",
   "language": "python",
   "name": "python3"
  },
  "language_info": {
   "codemirror_mode": {
    "name": "ipython",
    "version": 3
   },
   "file_extension": ".py",
   "mimetype": "text/x-python",
   "name": "python",
   "nbconvert_exporter": "python",
   "pygments_lexer": "ipython3",
   "version": "3.9.12"
  }
 },
 "nbformat": 4,
 "nbformat_minor": 5
}
