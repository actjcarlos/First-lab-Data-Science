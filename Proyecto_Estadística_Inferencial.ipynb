{
 "cells": [
  {
   "cell_type": "markdown",
   "id": "b606c300",
   "metadata": {},
   "source": [
    "# $$\\color{navy}{\\text{ESTADÍSTICA INFERENCIAL}}$$"
   ]
  },
  {
   "cell_type": "markdown",
   "id": "d589ec7b",
   "metadata": {},
   "source": [
    "### $\\color{turquoise}{\\text{Estimador por Método de Momentos}}$"
   ]
  },
  {
   "cell_type": "markdown",
   "id": "ed94f709",
   "metadata": {},
   "source": [
    "El método de momentos es una **técnica estadística** que se utiliza para estimar párametros poblacionales. Consiste en **igualar** los **momentos muestrales** con los **momentos poblacionales**.  \n",
    "El método fue introducido en 1887 por **Panfnuti Chebyshov**\n",
    "\n",
    "El objetivo de este método es estimar los parámetros usando lo momentos teoricos. Sea $X$ una v.a. con parámetro $(\\theta_1,\\theta_2,..,\\theta_p)$\n",
    "\n",
    "$F(X|\\theta), \\quad\\theta^T=(\\theta_1,\\theta_2,..,\\theta_p)$. Donde $\\theta$ es el vector columna que contiene los p-parámetros a ser estimados. El $k-ésimo$ momento al origen de $x$ se define como:\n",
    "\n",
    "\n",
    "$$\\mu'_k=\\mathbb{E}(x^k|\\theta)=\\mathbb{E}(x^k)$$\n",
    "\n",
    "**Nota:**\n",
    "* Una desvetaja que tiene este método es que algunas distribuciones no tienen segundo momento, por lo que no es aplicable para todas las distribuciones.\n",
    "\n",
    "\n",
    "$\\color{red}{Ejercicio:}$  \n",
    "El tiempo de retardo para pacientes con enfermedad coronaria potencial se define como la duración entre el comienzo de un síntoma agudo cardiovascular y la llegada a la unidad de emergencia.\n",
    "\n",
    "Se supone que el tiempo de retardo sigue una distribución exponencial con parámetro $\\theta $.\n",
    "\n",
    "Se registraron los tiempos de retardo (en minutos) en la clínica para los primeros 20 pacientes:\n",
    "\n",
    "$$ 525, \\ 719, \\ 2880, \\ 150, \\ 30, \\ 251, \\ 45, \\ 858, \\ 15, \\ 47, \\ 90, \\ 56, \\ 68, \\ 6, \\ 189, \\ 180, \\ 60, \\ 60, \\ 294, \\ 747 $$\n",
    "\n",
    "- Encuentra un estimador por el método de momentos para la media de la distribución.\n",
    "- Encuentra el valor del estimador con los datos dados.\n",
    "\n",
    "***Solución:***\n",
    "\n",
    "Considerando una distribución exponencial con parametro $\\theta$, sabemos que por definición la media teórica es:\n",
    "\n",
    "$$E[X] = \\theta$$\n",
    "\n",
    "Tomando en cuenta el **método de momentos**,  igualamos la media teórica con la media muestral, dicho de otra forma.\n",
    "\n",
    "$$\\hat{\\theta} = \\bar{X} = \\frac{1}{n} \\sum_{i=1}^{n} X_i$$\n",
    "\n",
    "Dado nuestro conjunto de datos:\n",
    "\n",
    "$$525, 719, 2880, 150, 30, 251, 45, 858, 15, 47, 90, 56, 68, 6, 189, 180, 60, 60, 294, 747$$\n",
    "\n",
    "A su vez \n",
    "$$n=20$$\n",
    "\n",
    "La media muestral (media empirica) es la siguiente:\n",
    "\n",
    "$$\\bar{X} = \\frac{525 + 719 + 2880 + 150 + 30 + 251 + 45 + 858 + 15 + 47 + 90 + 56 + 68 + 6 + 189 + 180 + 60 + 60 + 294 + 747}{20}$$  \n",
    "\n",
    "$$\\bar{X} = \\frac{7270}{20}$$\n",
    "\n",
    "\n",
    "Por lo tanto:\n",
    "\n",
    "**$$\\bar{X} = 363.5 $$**\n",
    "\n",
    "Por lo tanto, nuestro estimador **$\\theta$** calculado por el método de momentos es:\n",
    "\n",
    "**$$\\hat{\\theta} = 363.5$$**"
   ]
  },
  {
   "cell_type": "markdown",
   "id": "1a9c69a3",
   "metadata": {},
   "source": [
    "### $\\color{turquoise}{\\text{Estimador de Máxima Verosimilitud}}$"
   ]
  },
  {
   "cell_type": "markdown",
   "id": "393facc1",
   "metadata": {},
   "source": [
    "Este procedimental técnico se emplea para todo tipo de datos: completos, agrupados y los modificados (truncados, censurados, y la comnbinación de ambos), así mismo, es aplicable tanto para variables discretas y continuas.\n",
    "\n",
    "Para definir **EMV** se supone un conjunto de datos que consiste en n-eventos $A_1, A_2,...,A_n$. Donde $A_j$ es cualquier conjunto de datos del j-ésimo evento.\n",
    "\n",
    "Entonces del evento $A_j$ se puede observar v.a.i.i.d. $X_j$, por lo tanto, el EMV se usará para estimar el **parámetro que máximiza** la probabilidad de obtener los datos observados\n",
    "\n",
    "***Pasos***\n",
    "\n",
    "$\\color{gray}{\\text{1.- Se establece la función de verosimilitud}}$  \n",
    "\n",
    "**Función de Verosimilitud**  \n",
    "Sea $X_1, X_2, \\dots, X_n$ una muestra aleatoria con $f(x;\\theta)$. La función de verosimilitud (likelihood) es:\n",
    "\n",
    "$$f(X_1, X_2, \\dots, X_n; \\theta)=f(X_1,;\\theta)\\cdots(x_n;\\theta)$$\n",
    "Entonces:\n",
    "$$L(x_1, \\dots, x_n; \\theta)=\\prod_{i=1}^nf(x_i,\\theta)$$\n",
    "\n",
    "Donde $f(X_1, X_2, \\dots, X_n; \\theta)$ es la función de densidad o de probabilidad dependiendo del tipo de variable\n",
    "\n",
    "Una vez definida la funcioón de verosimilitud el procedimiento es muy senvillo para obtener el **EMV**\n",
    "\n",
    " \n",
    "$\\color{gray}{\\text{2.- Se establece la función log-verosimilitud, esta se obtiene aplicando logaritmo al función de verosimilitud}}$ \n",
    "\n",
    "$$ \\ln L(x1,\\dots, x_n; \\theta) $$  \n",
    "\n",
    "$\\color{gray}{\\text{3.- Se obtiene la derivada con respecto a}\\,\\,\\theta \\,\\, \\text{e igualamos a 0, posteriormente despejamos}\\,\\,\\theta}$\n",
    "\n",
    "$$ \\frac{d L(x1,\\dots, x_n; \\theta)=}{d \\theta} =0 $$  \n",
    "\n",
    "$\\color{gray}{\\text{4.- Finalmente se tendra que comprobar si es un máximo a traves de la segunda derivada}}$ \n",
    "$$ \\frac{d^2 L(x1,\\dots, x_n; \\theta)}{d^2 \\theta} =0 $$  \n",
    "$$\\frac{d^2}{d^2\\theta}l(\\theta)|_{\\theta=\\hat\\theta}$$"
   ]
  },
  {
   "cell_type": "markdown",
   "id": "a03941e4",
   "metadata": {},
   "source": [
    "### $\\color{turquoise}{\\text{Propiedades de los Estimadores}}$"
   ]
  },
  {
   "cell_type": "markdown",
   "id": "3f7495e2",
   "metadata": {},
   "source": [
    "$\\color{gray}{\\text{Insesagado}}$  \n",
    "\n",
    "Dicho de otra forma un estimador **insesgado** es aquel que tiene un valor esperado igual al parámetro que se quiere estimar.\n",
    "\n",
    "$\\color{gray}{\\text{Consistentes}}$  \n",
    "\n",
    "Un estimador es consistente cuando se aproxima cada vez más al valor del parámetro a medida que aumenta el tamaño de la muestra.  \n",
    "A mayor tamaño de la muestra, menor es la probalidad de que el estimador este muy lejos del valor real, la precisión aumenta a medida que el tamaño de la muestra también lo hace.\n",
    "\n",
    "$\\color{gray}{\\text{Invarianza}}$  \n",
    "\n",
    "Un estimador es invariante cuando el estimador de la función del parámetro coincide con la función del estimador del parámetro. \n",
    "\n",
    "$\\color{gray}{\\text{Suficiente}}$  \n",
    "\n",
    "Un estimador es suficiente cuando resume toda la información relevante de una muestra, sin que ningún otro estimador pueda aportar más información. \n",
    "\n",
    "$\\color{gray}{\\text{Eficiente}}$  \n",
    "\n",
    "En estadística, un estimador es eficiente cuando tiene la menor varianza posible, lo que indica que es más preciso. Un estimador eficiente es el \"mejor posible\" o \"óptimo\" de un parámetro de interés. "
   ]
  },
  {
   "cell_type": "markdown",
   "id": "4e746501",
   "metadata": {},
   "source": [
    "# $$\\color{forestgreen}{\\text{INTERVALOS DE CONFIANZA (IC)}}$$"
   ]
  },
  {
   "cell_type": "markdown",
   "id": "faa19260",
   "metadata": {},
   "source": [
    "### $\\color{limegreen}{\\text{IC para la media de una distribución nomal }(\\sigma\\,\\,conocida)}$"
   ]
  },
  {
   "cell_type": "markdown",
   "id": "0e059abd",
   "metadata": {},
   "source": [
    "Sea $X_1, \\dots, X_n$ una m.a. $X_i \\sim \\mathcal{N}(\\mu, \\sigma^2)$. Entonces:\n",
    "\n",
    "- $\\bar{X} \\sim \\mathcal{N}(\\mu, \\frac{\\sigma^2}{n})$\n",
    "- $Z = \\frac{\\bar{X} - \\mu}{\\sigma / \\sqrt{n}} \\sim \\mathcal{N}(0,1)$\n",
    "\n",
    "***Nivel de significancia (error): $\\alpha$***\n",
    "\n",
    "El intervalo de confianza se basa en que:\n",
    "$$\n",
    "\\mathbb{P}\\left( -z_{\\alpha/2} < \\frac{\\bar{X} - \\mu}{\\sigma / \\sqrt{n}} < z_{\\alpha/2} \\right)\n",
    "= \\mathbb{P}\\left( \\bar{X} - z_{\\alpha/2} \\frac{\\sigma}{\\sqrt{n}} < \\mu < \\bar{X} + z_{\\alpha/2} \\frac{\\sigma}{\\sqrt{n}} \\right)\n",
    "= 1 - \\alpha\n",
    "$$  \n",
    "  \n",
    "\n",
    "\n",
    "***El intervalo del $(1 - \\alpha) \\cdot 100\\%$ de confianza para $\\mu$ (con $\\sigma$ conocida) es:***\n",
    "\n",
    "$$\n",
    "\\left( \\bar{X} - z_{\\alpha/2} \\frac{\\sigma}{\\sqrt{n}}, \\quad \\bar{X} + z_{\\alpha/2} \\frac{\\sigma}{\\sqrt{n}} \\right)\n",
    "$$\n",
    "donde\n",
    "\n",
    "- $\\sigma$ = desviación estándar  \n",
    "- $\\frac{\\sigma}{\\sqrt{n}}$ = error estándar de la media  \n",
    "- $z_{\\alpha/2}$ determina el nivel de confianza  \n",
    "- El intervalo está centrado en $\\bar{X}$\n",
    "\n",
    "*Observación*\n",
    "\n",
    "- A mayor $n$, menor es el error estándar, y el intervalo de confianza es más pequeño.\n",
    "- Esto hace que se acerque más a la media $\\mu$, es decir, que haya menor variación.    \n",
    "\n",
    "$\\color{darkgray}{\\text{Ejemplo:}}$  \n",
    "Para tratar de estimar la media de consumo por cliente en un gran restaurante, se reuniero datos de una muestra de 49 clientes durante 3 semanas  \n",
    "\n",
    "**a)** Supon que la **desviación estandar de la población** es de $\\ 2.5$ ¿Cuál es el error estandar de la media?  \n",
    "**b)** Con un nivel de confianza del $\\ 95%$ ¿Cuál es el margen de error?  \n",
    "$1-\\alpha=0.95$, implica que $z_{\\alpha/2}=z_.025=1.96$  \n",
    "\n",
    "**c)** Si la **media de la muestra** es de $\\ 22.60$ ¿Cuál es el intervalo de confianza al 95% para la media de la población?  "
   ]
  },
  {
   "cell_type": "code",
   "execution_count": 5,
   "id": "db18aaeb",
   "metadata": {},
   "outputs": [
    {
     "name": "stdout",
     "output_type": "stream",
     "text": [
      " a) Error estandar de la media: 0.36\n",
      " b) Margen de error de la media: 0.70\n",
      " c) Intervalo de confianza al 95%: (21.90,23.30)\n"
     ]
    }
   ],
   "source": [
    "import numpy as np\n",
    "import matplotlib.pyplot as plt\n",
    "import scipy.stats as st\n",
    "import scipy.stats as chi2\n",
    "import scipy.stats as norm\n",
    "\n",
    "#Datos\n",
    "n=49\n",
    "sigma=2.5\n",
    "media_muestral=22.6 #X barra\n",
    "confianza=.95\n",
    "\n",
    "#a) Error estandar de la media \n",
    "error_estandar=sigma/np.sqrt(n)\n",
    "error_estandar\n",
    "print(f\" a) Error estandar de la media: {error_estandar:.2f}\")\n",
    "\n",
    "#b) Margen crítico (Z de .025)\n",
    "z=st.norm.ppf(1-(1-confianza)/2)\n",
    "margen_error=z*error_estandar\n",
    "margen_error\n",
    "print(f\" b) Margen de error de la media: {margen_error:.2f}\")\n",
    "\n",
    "#c) Limite inferior\n",
    "limite_inferior= media_muestral-margen_error\n",
    "limite_superior= media_muestral+margen_error\n",
    "print(f\" c) Intervalo de confianza al 95%: ({limite_inferior:.2f},{limite_superior:.2f})\")\n",
    "\n"
   ]
  },
  {
   "cell_type": "markdown",
   "id": "d9c5d257",
   "metadata": {},
   "source": [
    "### $\\color{limegreen}{\\text{IC para la media de una distribución nomal }(\\sigma\\,\\,desconocida)}$"
   ]
  },
  {
   "cell_type": "markdown",
   "id": "5fdddc2a",
   "metadata": {},
   "source": [
    "Sea $X_1, \\dots, X_n$ una m.a. $X_i \\sim \\mathcal{N}(\\mu, \\sigma^2)$. Entonces:\n",
    "\n",
    "- $\\bar{X} \\sim \\mathcal{N}(\\mu, \\frac{\\sigma^2}{n})$\n",
    "- $Z = \\frac{\\bar{X} - \\mu}{\\sigma / \\sqrt{n}} \\sim \\mathcal{N}(0,1)$\n",
    "\n",
    "Si el tamaño de la muestra es menor a 30, se utiliza la distribucion t:\n",
    "\n",
    "$\\color{darkgray}{\\text{Estadistico }t}$  \n",
    "\n",
    "Definimos el estadistico t de la siguiente manera:\n",
    "$$ T=\\frac{\\bar{x}-\\mu}{s/\\sqrt{n}} \\sim {t_(n-1)} $$\n",
    "\n",
    "$\\color{darkgray}{\\text{El intervalo }(1-\\alpha)\\cdot100\\%\\text{ de confianza para }\\mu\\text{ con } \\sigma\\,\\,desconocida}$ \n",
    "\n",
    "$$\n",
    "\\left( \\bar{X} - t_{\\alpha/2} \\frac{s}{\\sqrt{n}}, \\quad \\bar{X} + t_{\\alpha/2} \\frac{s}{\\sqrt{n}} \\right)\n",
    "$$\n",
    "donde\n",
    "\n",
    "- $\\sigma$ = desviación estándar muestral\n",
    "- $\\frac{s}{\\sqrt{n}}$ = error estándar de la media  \n",
    "- $t_{\\alpha/2}$ determina el nivel de confianza  \n",
    "- El intervalo está centrado en $\\bar{X}$\n",
    "\n",
    "*Observación*\n",
    "\n",
    "- A mayor $n$, menor es el error estándar, y el intervalo de confianza es más pequeño.\n",
    "- Esto hace que se acerque más a la media $\\mu$, es decir, que haya menor variación.\n",
    "\n",
    "$\\color{darkgray}{\\text{Ejemplo}}$ \n",
    "Supongamos que tenemos los siguientes datos: \n",
    "\n",
    "$$ datos=[45,55,67,45,68,79,98,87,84,82] $$\n",
    "\n",
    "* Calcular un intervalo de confianza para la media.\n"
   ]
  },
  {
   "cell_type": "code",
   "execution_count": 6,
   "id": "0e35a9c1",
   "metadata": {},
   "outputs": [
    {
     "name": "stdout",
     "output_type": "stream",
     "text": [
      "Media muestral: 71.00\n",
      "Error estandar: 5.75\n",
      "Intervalo de confianza al 95% es: (58.00052174294386, 83.99947825705614)\n"
     ]
    }
   ],
   "source": [
    "#Datos del ejemplo\n",
    "\n",
    "data=[45,55,67,45,68,79,98,87,84,82]\n",
    "confidence=0.95\n",
    "gl=len(data)-1 #Grados de libertad\n",
    "\n",
    "#Media y error estandar\n",
    "mean=np.mean(data)\n",
    "error_est=st.sem(data)\n",
    "\n",
    "\n",
    "#Intervalo de confianza usando t de Student\n",
    "intervalo=st.t.interval(confidence, gl, loc=mean, scale=error_est)\n",
    "print(f\"Media muestral: {mean:.2f}\")\n",
    "print(f\"Error estandar: {error_est:.2f}\")\n",
    "print(f\"Intervalo de confianza al 95% es: {intervalo}\")"
   ]
  },
  {
   "cell_type": "markdown",
   "id": "3ffedca2",
   "metadata": {},
   "source": [
    "# $$\\color{orange}{\\text{Distribuciones Muestrales}}$$"
   ]
  },
  {
   "cell_type": "markdown",
   "id": "f5cef334",
   "metadata": {},
   "source": [
    "### $\\color{limegreen}{\\text{Distribución }t\\,\\,de\\,\\,Student}$"
   ]
  },
  {
   "cell_type": "markdown",
   "id": "744fabcf",
   "metadata": {},
   "source": [
    "Sean:\n",
    "- $X \\sim \\mathcal{N}(0,1)$  \n",
    "- $Y \\sim \\chi^2(n - 1)$  \n",
    "\n",
    "Entonces:\n",
    "\n",
    "$$\n",
    "T = \\frac{X \\cdot \\sqrt{n}}{\\sqrt{\\dfrac{Y}{n - 1}}} \\sim t(n - 1)\n",
    "$$\n",
    "\n",
    "Gráficamente, la distribución *t* tiene forma de campana, similar a la normal estándar, pero con colas más gruesas. A medida que $n \\to \\infty$, se aproxima a una normal estándar:\n",
    "\n",
    "$$\n",
    "\\lim_{n \\to \\infty} t(n) = \\mathcal{N}(0,1)\n",
    "$$\n",
    "\n",
    "---\n",
    "\n",
    "> 📌 Esta distribución es útil cuando se desconoce la varianza poblacional y se utiliza una estimación muestral."
   ]
  },
  {
   "cell_type": "code",
   "execution_count": 7,
   "id": "e0d8d878",
   "metadata": {},
   "outputs": [
    {
     "data": {
      "image/png": "[encoded data removed]",
      "text/plain": [
       "<Figure size 720x432 with 1 Axes>"
      ]
     },
     "metadata": {
      "needs_background": "light"
     },
     "output_type": "display_data"
    }
   ],
   "source": [
    "import numpy as np\n",
    "import matplotlib.pyplot as plt\n",
    "from scipy.stats import t, norm\n",
    "\n",
    "# Valores de x para graficar\n",
    "x = np.linspace(-5, 5, 500)\n",
    "\n",
    "# Distribuciones t con diferentes grados de libertad\n",
    "dfs = [1, 3, 10, 30]\n",
    "colors = ['red', 'orange', 'green', 'blue']\n",
    "\n",
    "plt.figure(figsize=(10, 6))\n",
    "\n",
    "# Graficar curvas t\n",
    "for df, color in zip(dfs, colors):\n",
    "    plt.plot(x, t.pdf(x, df), label=f't(df={df})', color=color)\n",
    "\n",
    "# Graficar la normal estándar\n",
    "plt.plot(x, norm.pdf(x), 'k--', label='Normal estándar')\n",
    "\n",
    "# Formato de la gráfica\n",
    "plt.title('Comparación entre la distribución t y la normal estándar', fontsize=14)\n",
    "plt.xlabel('$x$', fontsize=12)\n",
    "plt.ylabel('Densidad', fontsize=12)\n",
    "plt.legend()\n",
    "plt.grid(True)\n",
    "plt.show()"
   ]
  },
  {
   "cell_type": "markdown",
   "id": "e143c2fc",
   "metadata": {},
   "source": [
    "### $\\color{limegreen}{\\text{Distribución }F\\,\\,de\\,\\,Fisher}$"
   ]
  },
  {
   "cell_type": "markdown",
   "id": "7fed39d9",
   "metadata": {},
   "source": [
    "Sea:\n",
    "\n",
    "$$\n",
    "F = \\frac{\\chi^2_{(m-1)} / (m - 1)}{\\chi^2_{(n-1)} / (n - 1)} \\sim F(m - 1,\\ n - 1)\n",
    "$$"
   ]
  },
  {
   "cell_type": "code",
   "execution_count": 8,
   "id": "eaa14906",
   "metadata": {},
   "outputs": [
    {
     "data": {
      "text/plain": [
       "<matplotlib.legend.Legend at 0x26f2a943430>"
      ]
     },
     "execution_count": 8,
     "metadata": {},
     "output_type": "execute_result"
    },
    {
     "data": {
      "image/png": "[encoded data removed]",
      "text/plain": [
       "<Figure size 864x360 with 1 Axes>"
      ]
     },
     "metadata": {
      "needs_background": "light"
     },
     "output_type": "display_data"
    }
   ],
   "source": [
    "import numpy as np\n",
    "import matplotlib.pyplot as plt\n",
    "from scipy.stats import f, chi2\n",
    "\n",
    "# Rango de valores para las gráficas\n",
    "x_f = np.linspace(0, 5, 500)\n",
    "x_chi = np.linspace(0, 20, 500)\n",
    "\n",
    "# --- Distribución F de Fisher ---\n",
    "df1, df2 = 5, 10\n",
    "f_dist = f.pdf(x_f, df1, df2)\n",
    "\n",
    "plt.figure(figsize=(12, 5))\n",
    "\n",
    "# Gráfica de F\n",
    "plt.subplot(1, 2, 1)\n",
    "plt.plot(x_f, f_dist, label=f'F({df1}, {df2})', color='purple')\n",
    "plt.title('Distribución F de Fisher', fontsize=14)\n",
    "plt.xlabel('x')\n",
    "plt.ylabel('Densidad')\n",
    "plt.grid(True)\n",
    "plt.legend()"
   ]
  },
  {
   "cell_type": "markdown",
   "id": "36a7e896",
   "metadata": {},
   "source": [
    "### $\\color{limegreen}{\\text{Distribución }Ji-cuadrada\\,\\,(Chi-cuadrada)}$"
   ]
  },
  {
   "cell_type": "markdown",
   "id": "615160d5",
   "metadata": {},
   "source": [
    "Si:\n",
    "\n",
    "- $X \\sim \\mathcal{N}(0,1)$  \n",
    "- Entonces: $X^2 \\sim \\chi^2(1)$\n",
    "\n",
    "Y si:\n",
    "\n",
    "$$\n",
    "\\sum_{i=1}^{n} X_i^2 \\sim \\chi^2(n)\n",
    "$$\n",
    "\n",
    "> 📌 La distribución $\\chi^2(k)$ surge como la suma de los cuadrados de $k$ variables normales estándar independientes.\n"
   ]
  },
  {
   "cell_type": "code",
   "execution_count": 9,
   "id": "c68a17fd",
   "metadata": {},
   "outputs": [
    {
     "data": {
      "image/png": "[encoded data removed]",
      "text/plain": [
       "<Figure size 432x288 with 1 Axes>"
      ]
     },
     "metadata": {
      "needs_background": "light"
     },
     "output_type": "display_data"
    }
   ],
   "source": [
    "# --- Distribuciones Ji-cuadrada ---\n",
    "df_chi_list = [1, 3, 6, 10]\n",
    "\n",
    "plt.subplot(1, 2, 2)\n",
    "for df in df_chi_list:\n",
    "    plt.plot(x_chi, chi2.pdf(x_chi, df), label=f'χ²({df})')\n",
    "plt.title('Distribuciones Ji-cuadrada', fontsize=14)\n",
    "plt.xlabel('x')\n",
    "plt.ylabel('Densidad')\n",
    "plt.grid(True)\n",
    "plt.legend()\n",
    "\n",
    "plt.tight_layout()\n",
    "plt.show()"
   ]
  }
 ],
 "metadata": {
  "kernelspec": {
   "display_name": "Python 3 (ipykernel)",
   "language": "python",
   "name": "python3"
  },
  "language_info": {
   "codemirror_mode": {
    "name": "ipython",
    "version": 3
   },
   "file_extension": ".py",
   "mimetype": "text/x-python",
   "name": "python",
   "nbconvert_exporter": "python",
   "pygments_lexer": "ipython3",
   "version": "3.9.12"
  }
 },
 "nbformat": 4,
 "nbformat_minor": 5
}
